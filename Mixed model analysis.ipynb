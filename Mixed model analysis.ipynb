{
 "cells": [
  {
   "cell_type": "code",
   "execution_count": null,
   "metadata": {
    "collapsed": true
   },
   "outputs": [],
   "source": [
    "import pandas as pd\n",
    "import numpy as np\n",
    "import scipy.stats as stats\n",
    "import statsmodels\n",
    "import statsmodels.api as sm\n",
    "import statsmodels.formula.api as smf\n",
    "import xlrd\n",
    "import seaborn as sns\n",
    "import matplotlib.pyplot as plt\n",
    "import scipy.io as sio\n",
    "import matplotlib\n",
    "import pylab as pl"
   ]
  },
  {
   "cell_type": "code",
   "execution_count": null,
   "metadata": {
    "collapsed": true
   },
   "outputs": [],
   "source": [
    "# Get raw frequency vector for all words at given t\n",
    "def log_freq_t(t,freqs):\n",
    "    if t >= 1800:\n",
    "        freq_list = list(freqs.ix[:,t-1800])\n",
    "        print len(freq_list)\n",
    "        return freq_list\n",
    "    else:\n",
    "        return list(np.log(np.add(list(freqs.ix[:,t-1500]),1)))"
   ]
  },
  {
   "cell_type": "code",
   "execution_count": null,
   "metadata": {
    "collapsed": true
   },
   "outputs": [],
   "source": [
    "# Read in start date info\n",
    "def get_start_dates(filename,st):\n",
    "    to_include = []\n",
    "    workbook = xlrd.open_workbook(filename)\n",
    "    sheet = workbook.sheet_by_index(0)\n",
    "    start_dates = {}\n",
    "    for i in range(1,sheet.nrows):\n",
    "        row = sheet.row_values(i)\n",
    "        word = row[0]\n",
    "        if word == False:   # excel auto-formats 'true','false' to keywords\n",
    "            word = 'false'\n",
    "        elif word == True:\n",
    "            word = 'true'\n",
    "        starts = row[1:len(row)]\n",
    "        starts = [x for x in starts if isinstance(x,float) or x == 'OE']\n",
    "        start_dates[word]=sorted(starts)\n",
    "    if st=='dates':\n",
    "        return start_dates"
   ]
  },
  {
   "cell_type": "code",
   "execution_count": null,
   "metadata": {
    "collapsed": true
   },
   "outputs": [],
   "source": [
    "# Read in end date info. -1 means the sense remains in use currently.\n",
    "def get_end_dates(filename):\n",
    "    workbook = xlrd.open_workbook(filename)\n",
    "    sheet = workbook.sheet_by_index(0)\n",
    "    end_dates = {}\n",
    "    for i in range(1,sheet.nrows):\n",
    "        row = sheet.row_values(i)\n",
    "        word = row[0]\n",
    "        if word == False:    # excel auto-formats 'true','false' to keywords\n",
    "            word = 'false'\n",
    "        elif word == True:\n",
    "            word = 'true'\n",
    "        ends = row[1:len(row)]\n",
    "        ends = [x for x in ends if isinstance(x,float)]\n",
    "        end_dates[word]=sorted(ends)\n",
    "    return end_dates"
   ]
  },
  {
   "cell_type": "code",
   "execution_count": null,
   "metadata": {
    "collapsed": true
   },
   "outputs": [],
   "source": [
    "def regress_for_t(t,years,betas_f,pvals_f,betas_s,pvals_s,betas_l,pvals_l,words):\n",
    "    variables=vectors_at_t(t)\n",
    "    Y = variables['hte']\n",
    "    \n",
    "    if np.any(Y) != 0: #there are words changing\n",
    "        log_X_f = np.log(variables['freq'])\n",
    "        X_l = variables['lengths']\n",
    "        log_X_s = np.log(np.add(variables['polysemy'],1))\n",
    "        X = np.vstack((log_X_f,X_l,log_X_s))\n",
    "        X = np.transpose(X)\n",
    "\n",
    "        if len(variables['words']) > 1:\n",
    "            if ~np.isnan(X[0][0]):    \n",
    "                md = statsmodels.regression.mixed_linear_model.MixedLM(Y, X, variables['words']) \n",
    "                mdf = md.fit() \n",
    "                years.append(t)\n",
    "                mdf_params = list(mdf.params)\n",
    "                mdf_pvalues = list(mdf.pvalues)\n",
    "                betas_l.append(mdf_params[1])\n",
    "                pvals_l.append(mdf_pvalues[1])\n",
    "                betas_s.append(mdf_params[2])\n",
    "                pvals_s.append(mdf_pvalues[2])\n",
    "                betas_f.append(mdf_params[0])\n",
    "                pvals_f.append(mdf_pvalues[0])\n",
    "                if np.isnan(mdf_params[0]):\n",
    "                    print 'Y:',Y\n",
    "                    print 'log Xf:',log_X_f"
   ]
  },
  {
   "cell_type": "code",
   "execution_count": null,
   "metadata": {
    "collapsed": true
   },
   "outputs": [],
   "source": [
    "def num_senses_prior(t,words,startdates,enddates):\n",
    "    senses_prior_per_word = {}\n",
    "    for w in words:\n",
    "        starts = startdates[w]\n",
    "        ends = enddates[w]\n",
    "        starts = [s for s in starts if s < t and s > 0 or s == 'OE']\n",
    "        ends = [e for e in ends if e > 0 and e < t or e == 'OE']\n",
    "        senses_prior_per_word[w]=len(starts)-len(ends)\n",
    "    return senses_prior_per_word"
   ]
  },
  {
   "cell_type": "code",
   "execution_count": null,
   "metadata": {
    "collapsed": true
   },
   "outputs": [],
   "source": [
    "def num_senses_gained(t1,t2,words,startdates):\n",
    "    senses_gained_per_word = {}\n",
    "    for w in words:\n",
    "        starts = startdates[w]\n",
    "        emerging = [d for d in starts if d >= t1 and d < t2 or d == 'OE']\n",
    "        senses_gained_per_word[w]=len(emerging)\n",
    "    return senses_gained_per_word"
   ]
  },
  {
   "cell_type": "code",
   "execution_count": null,
   "metadata": {
    "collapsed": true
   },
   "outputs": [],
   "source": [
    "def num_senses_lost(t1,t2,words,enddates):\n",
    "    senses_lost_per_word = {}\n",
    "    for w in words:\n",
    "        ends = enddates[w]\n",
    "        disappearing = [d for d in ends if d >= t1 and d < t2 or d == 'OE']\n",
    "        senses_lost_per_word[w]=len(disappearing)\n",
    "    return senses_lost_per_word"
   ]
  },
  {
   "cell_type": "code",
   "execution_count": null,
   "metadata": {
    "collapsed": true
   },
   "outputs": [],
   "source": [
    "def vectors_at_t(t,words,start_dates,end_dates):\n",
    "    rate_t=[]\n",
    "    freq_t=[]\n",
    "    words_t=[]\n",
    "    lengths_t=[]\n",
    "    polysemy_t=[]\n",
    "    gain_t = []\n",
    "    prior_senses_t = num_senses_prior(t,words,start_dates,end_dates)\n",
    "    hte_t = num_senses_gained(t-10,t,words,start_dates)\n",
    "    for w in words:\n",
    "        if t in rate_data[w].keys() and t in freq_ham[w].keys():\n",
    "            rate = rate_data[w][t]\n",
    "            freq = freq_ham[w][t]\n",
    "            poly = prior_senses_t[w]\n",
    "            hte = hte_t[w]\n",
    "            if not np.isnan(freq) and not np.isnan(rate):\n",
    "                rate_t.append(rate_data[w][t])\n",
    "                freq_t.append(freq_ham[w][t])\n",
    "                words_t.append(w)\n",
    "                lengths_t.append(len(w))\n",
    "                polysemy_t.append(poly)\n",
    "                gain_t.append(hte/10.0)\n",
    "    return {'freq':freq_t,'words':words_t,'lengths':lengths_t,'polysemy':polysemy_t,'rate':rate_t,'hte':gain_t}"
   ]
  },
  {
   "cell_type": "code",
   "execution_count": null,
   "metadata": {
    "collapsed": true
   },
   "outputs": [],
   "source": [
    "def regress_ham(words):\n",
    "    \n",
    "    betas_f = []\n",
    "    pvals_f = []\n",
    "    betas_s = []\n",
    "    pvals_s = []\n",
    "    betas_l = []\n",
    "    pvals_l = []\n",
    "    years = []\n",
    "    for t in range(1810,1990,10):\n",
    "        print \"start of regression\"\n",
    "        regress_for_t(t,years,betas_f,pvals_f,betas_s,pvals_s,betas_l,pvals_l,words)\n",
    "    xs = np.hstack((np.hstack((betas_f[-len(years):],betas_l[-len(years):])),betas_s[-len(years):]))\n",
    "    ys = np.hstack((np.hstack((['Frequency']*len(years),['Length']*len(years))),['#Senses']*len(years)))\n",
    "    to_plot = [ys,xs]\n",
    "    col_labels = ['Predictor','Beta']\n",
    "    df = pd.DataFrame.transpose(pd.DataFrame(to_plot, col_labels))\n",
    "    %matplotlib inline\n",
    "    sns.barplot(x='Beta', y='Predictor', data=df)\n",
    "    sns.despine(top=True, right=True)\n",
    "    plt.show()\n",
    "        \n",
    "    print \"mean beta (log freq):\", np.average(betas_f[-len(years):])\n",
    "    print \"mean beta (raw length):\",np.average(betas_l[-len(years):])\n",
    "    print \"mean beta (log #prior senses):\",np.average(betas_s[-len(years):])\n",
    "        \n",
    "    # Print #significant p-values applying Bonferroni correction\n",
    "    sig_l = [x for x in pvals_l if x <= 0.05/len(pvals_l)]\n",
    "    sig_f = [x for x in pvals_f if x <= 0.05/len(pvals_l)]\n",
    "    sig_s = [x for x in pvals_s if x <= 0.05/len(pvals_l)]\n",
    "    print '#significant p-values, frequency:',len(sig_f)\n",
    "    print '#significant p-values, length:',len(sig_l)\n",
    "    print '#significant p-values, #prior senses:',len(sig_s)\n",
    "    print '#total regressions:',len(pvals_l)\n",
    "        \n",
    "    t_stats = [stats.ttest_ind(betas_s,betas_f)[0],stats.ttest_ind(betas_s,betas_l)[0],stats.ttest_ind(betas_f,betas_l)[0]]\n",
    "    p_vals = [stats.ttest_ind(betas_s,betas_f)[1],stats.ttest_ind(betas_s,betas_l)[1],stats.ttest_ind(betas_f,betas_l)[1]]\n",
    "    #t_stats = [stats.ttest_ind(betas_f,betas_l)[0]]\n",
    "    #p_vals = [stats.ttest_ind(betas_f,betas_l)[1]]\n",
    "    data = [t_stats,p_vals]\n",
    "    row_labels = row_labels = ['t-stat','p-value']\n",
    "    col_labels = ['Beta (S) vs. Beta (F)','Beta (S) vs. Beta (L)','Beta (F) vs. Beta (L)']\n",
    "    #['Beta (F) vs. Beta (L)']\n",
    "    print '\\n'\n",
    "    print pd.DataFrame(data, row_labels, col_labels)\n",
    "        \n",
    "    %matplotlib inline\n",
    "    plt.title('p-values over time (length)')\n",
    "    plt.xlabel('Year')\n",
    "    plt.ylabel('Log p-value')\n",
    "    plt.scatter(years,np.log10(pvals_l))\n",
    "    plt.show()\n",
    "        \n",
    "    %matplotlib inline\n",
    "    plt.title('p-values over time (frequency)')\n",
    "    plt.xlabel('Year')\n",
    "    plt.ylabel('Log p-value')\n",
    "    plt.scatter(years,np.log10(pvals_f))\n",
    "    plt.show()\n",
    "    \n",
    "    %matplotlib inline\n",
    "    plt.title('p-values over time (polysemy)')\n",
    "    plt.xlabel('Year')\n",
    "    plt.ylabel('Log p-value')\n",
    "    plt.scatter(years,np.log10(pvals_s))\n",
    "    plt.show()"
   ]
  }
 ],
 "metadata": {
  "kernelspec": {
   "display_name": "Python 2",
   "language": "python",
   "name": "python2"
  },
  "language_info": {
   "codemirror_mode": {
    "name": "ipython",
    "version": 2
   },
   "file_extension": ".py",
   "mimetype": "text/x-python",
   "name": "python",
   "nbconvert_exporter": "python",
   "pygments_lexer": "ipython2",
   "version": "2.7.8"
  }
 },
 "nbformat": 4,
 "nbformat_minor": 2
}
